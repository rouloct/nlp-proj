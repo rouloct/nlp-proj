{
 "cells": [
  {
   "cell_type": "code",
   "execution_count": 1,
   "metadata": {},
   "outputs": [],
   "source": [
    "import pandas as pd\n",
    "from data_proccessing import pre_processing as p\n",
    "import spacy "
   ]
  },
  {
   "cell_type": "code",
   "execution_count": 2,
   "metadata": {},
   "outputs": [],
   "source": [
    "df = pd.read_csv(\"/Users/isaacpadberg/Documents/spacy/csv/toxic_comments/train_preprocessed.csv\")"
   ]
  },
  {
   "cell_type": "code",
   "execution_count": 3,
   "metadata": {},
   "outputs": [
    {
     "data": {
      "text/plain": [
       "Index(['comment_text', 'id', 'identity_hate', 'insult', 'obscene', 'set',\n",
       "       'severe_toxic', 'threat', 'toxic', 'toxicity'],\n",
       "      dtype='object')"
      ]
     },
     "execution_count": 3,
     "metadata": {},
     "output_type": "execute_result"
    }
   ],
   "source": [
    "df.columns"
   ]
  },
  {
   "cell_type": "code",
   "execution_count": 4,
   "metadata": {},
   "outputs": [],
   "source": [
    "df.identity_hate.value_counts().head()\n",
    "df.rename(columns={\"comment_text\":\"text\"}, inplace=True)"
   ]
  },
  {
   "cell_type": "code",
   "execution_count": 5,
   "metadata": {},
   "outputs": [],
   "source": [
    "df.drop(columns=[\"id\",\"set\"], inplace=True)"
   ]
  },
  {
   "attachments": {},
   "cell_type": "markdown",
   "metadata": {},
   "source": [
    "## Prepare the data for processing"
   ]
  },
  {
   "cell_type": "code",
   "execution_count": 6,
   "metadata": {},
   "outputs": [
    {
     "data": {
      "text/html": [
       "<div>\n",
       "<style scoped>\n",
       "    .dataframe tbody tr th:only-of-type {\n",
       "        vertical-align: middle;\n",
       "    }\n",
       "\n",
       "    .dataframe tbody tr th {\n",
       "        vertical-align: top;\n",
       "    }\n",
       "\n",
       "    .dataframe thead th {\n",
       "        text-align: right;\n",
       "    }\n",
       "</style>\n",
       "<table border=\"1\" class=\"dataframe\">\n",
       "  <thead>\n",
       "    <tr style=\"text-align: right;\">\n",
       "      <th></th>\n",
       "      <th>text</th>\n",
       "      <th>identity_hate</th>\n",
       "      <th>insult</th>\n",
       "      <th>obscene</th>\n",
       "      <th>severe_toxic</th>\n",
       "      <th>threat</th>\n",
       "      <th>toxic</th>\n",
       "      <th>toxicity</th>\n",
       "    </tr>\n",
       "  </thead>\n",
       "  <tbody>\n",
       "    <tr>\n",
       "      <th>113777</th>\n",
       "      <td>utc if one takes that attitude  it never will...</td>\n",
       "      <td>0.0</td>\n",
       "      <td>0.0</td>\n",
       "      <td>0.0</td>\n",
       "      <td>0.0</td>\n",
       "      <td>0.0</td>\n",
       "      <td>0.0</td>\n",
       "      <td>0.0</td>\n",
       "    </tr>\n",
       "    <tr>\n",
       "      <th>121240</th>\n",
       "      <td>note s edit is under discussion at wikipedia a...</td>\n",
       "      <td>0.0</td>\n",
       "      <td>0.0</td>\n",
       "      <td>0.0</td>\n",
       "      <td>0.0</td>\n",
       "      <td>0.0</td>\n",
       "      <td>0.0</td>\n",
       "      <td>0.0</td>\n",
       "    </tr>\n",
       "    <tr>\n",
       "      <th>96228</th>\n",
       "      <td>can someone please help me  i am conistently b...</td>\n",
       "      <td>0.0</td>\n",
       "      <td>0.0</td>\n",
       "      <td>0.0</td>\n",
       "      <td>0.0</td>\n",
       "      <td>0.0</td>\n",
       "      <td>0.0</td>\n",
       "      <td>0.0</td>\n",
       "    </tr>\n",
       "    <tr>\n",
       "      <th>153464</th>\n",
       "      <td>width style background  trans parent width st...</td>\n",
       "      <td>0.0</td>\n",
       "      <td>0.0</td>\n",
       "      <td>0.0</td>\n",
       "      <td>0.0</td>\n",
       "      <td>0.0</td>\n",
       "      <td>0.0</td>\n",
       "      <td>0.0</td>\n",
       "    </tr>\n",
       "    <tr>\n",
       "      <th>98542</th>\n",
       "      <td>comment i think this article is ready fro fac ...</td>\n",
       "      <td>0.0</td>\n",
       "      <td>0.0</td>\n",
       "      <td>0.0</td>\n",
       "      <td>0.0</td>\n",
       "      <td>0.0</td>\n",
       "      <td>0.0</td>\n",
       "      <td>0.0</td>\n",
       "    </tr>\n",
       "  </tbody>\n",
       "</table>\n",
       "</div>"
      ],
      "text/plain": [
       "                                                     text  identity_hate  \\\n",
       "113777   utc if one takes that attitude  it never will...            0.0   \n",
       "121240  note s edit is under discussion at wikipedia a...            0.0   \n",
       "96228   can someone please help me  i am conistently b...            0.0   \n",
       "153464   width style background  trans parent width st...            0.0   \n",
       "98542   comment i think this article is ready fro fac ...            0.0   \n",
       "\n",
       "        insult  obscene  severe_toxic  threat  toxic  toxicity  \n",
       "113777     0.0      0.0           0.0     0.0    0.0       0.0  \n",
       "121240     0.0      0.0           0.0     0.0    0.0       0.0  \n",
       "96228      0.0      0.0           0.0     0.0    0.0       0.0  \n",
       "153464     0.0      0.0           0.0     0.0    0.0       0.0  \n",
       "98542      0.0      0.0           0.0     0.0    0.0       0.0  "
      ]
     },
     "execution_count": 6,
     "metadata": {},
     "output_type": "execute_result"
    }
   ],
   "source": [
    "# df.drop(columns=[\"type\",\"db.model_preds\",\"status\",\"round\",\"annotator\", \"model_wrong\"], inplace=True)\n",
    "# test_df = df.loc[df.split == \"test\"]\n",
    "df_size = df.shape[0]\n",
    "dev_size = .15\n",
    "num_samples = int(df_size * dev_size)\n",
    "\n",
    "dev_df = df.sample(num_samples,replace=False)\n",
    "train_df = df.drop(dev_df.index)\n",
    "\n",
    "\n",
    "train_df.name = \"train\"\n",
    "dev_df.name = \"dev\"\n",
    "dev_df.head()\n"
   ]
  },
  {
   "attachments": {},
   "cell_type": "markdown",
   "metadata": {},
   "source": [
    "## Build & Store spaCy Datasets\n",
    "\n",
    "* train.spacy   -> The dataset used to train the model on.\n",
    "* dev.spacy     -> The dataset used to evaluate the model after each training job.\n",
    "* test.spacy    -> The dataset used to evaluate how the model will perfom in a production environment. \n"
   ]
  },
  {
   "cell_type": "code",
   "execution_count": 7,
   "metadata": {},
   "outputs": [
    {
     "data": {
      "text/plain": [
       "Index(['text', 'identity_hate', 'insult', 'obscene', 'severe_toxic', 'threat',\n",
       "       'toxic', 'toxicity'],\n",
       "      dtype='object')"
      ]
     },
     "execution_count": 7,
     "metadata": {},
     "output_type": "execute_result"
    }
   ],
   "source": [
    "dev_df.columns"
   ]
  },
  {
   "cell_type": "code",
   "execution_count": 8,
   "metadata": {},
   "outputs": [],
   "source": [
    "out_folder = \"/Users/isaacpadberg/Documents/spacy/corpus/toxic_comment_corpus/\"\n",
    "categories = ['identity_hate', 'insult', 'obscene', 'severe_toxic', 'threat','toxic', 'toxicity']\n",
    "nlp = spacy.blank(\"en\")\n",
    "\n",
    "p.generate_multiclass_corpus(dev_df, nlp, categories)\n",
    "# generate_corpus(test_df, nlp, categories)\n",
    "p.generate_multiclass_corpus(train_df, nlp, categories)"
   ]
  },
  {
   "cell_type": "code",
   "execution_count": 9,
   "metadata": {},
   "outputs": [
    {
     "data": {
      "text/plain": [
       "Index(['text', 'identity_hate', 'insult', 'obscene', 'severe_toxic', 'threat',\n",
       "       'toxic', 'toxicity'],\n",
       "      dtype='object')"
      ]
     },
     "execution_count": 9,
     "metadata": {},
     "output_type": "execute_result"
    }
   ],
   "source": [
    "df.columns"
   ]
  },
  {
   "cell_type": "code",
   "execution_count": 18,
   "metadata": {},
   "outputs": [
    {
     "data": {
      "text/html": [
       "<div>\n",
       "<style scoped>\n",
       "    .dataframe tbody tr th:only-of-type {\n",
       "        vertical-align: middle;\n",
       "    }\n",
       "\n",
       "    .dataframe tbody tr th {\n",
       "        vertical-align: top;\n",
       "    }\n",
       "\n",
       "    .dataframe thead th {\n",
       "        text-align: right;\n",
       "    }\n",
       "</style>\n",
       "<table border=\"1\" class=\"dataframe\">\n",
       "  <thead>\n",
       "    <tr style=\"text-align: right;\">\n",
       "      <th></th>\n",
       "      <th>text</th>\n",
       "      <th>identity_hate</th>\n",
       "      <th>insult</th>\n",
       "      <th>obscene</th>\n",
       "      <th>severe_toxic</th>\n",
       "      <th>threat</th>\n",
       "      <th>toxic</th>\n",
       "      <th>toxicity</th>\n",
       "    </tr>\n",
       "  </thead>\n",
       "  <tbody>\n",
       "    <tr>\n",
       "      <th>6</th>\n",
       "      <td>cock  suck before you piss around on my work</td>\n",
       "      <td>0.0</td>\n",
       "      <td>1.0</td>\n",
       "      <td>1.0</td>\n",
       "      <td>1.0</td>\n",
       "      <td>0.0</td>\n",
       "      <td>1.0</td>\n",
       "      <td>4.0</td>\n",
       "    </tr>\n",
       "    <tr>\n",
       "      <th>43</th>\n",
       "      <td>fuck your filthy mother in the ass  dry</td>\n",
       "      <td>0.0</td>\n",
       "      <td>1.0</td>\n",
       "      <td>1.0</td>\n",
       "      <td>0.0</td>\n",
       "      <td>0.0</td>\n",
       "      <td>1.0</td>\n",
       "      <td>3.0</td>\n",
       "    </tr>\n",
       "    <tr>\n",
       "      <th>51</th>\n",
       "      <td>get fuck  ed up  get fuck  ed up got a drink t...</td>\n",
       "      <td>0.0</td>\n",
       "      <td>0.0</td>\n",
       "      <td>1.0</td>\n",
       "      <td>0.0</td>\n",
       "      <td>0.0</td>\n",
       "      <td>1.0</td>\n",
       "      <td>2.0</td>\n",
       "    </tr>\n",
       "    <tr>\n",
       "      <th>55</th>\n",
       "      <td>stupid peace of  shit  stop deleting my stuff ...</td>\n",
       "      <td>0.0</td>\n",
       "      <td>1.0</td>\n",
       "      <td>1.0</td>\n",
       "      <td>1.0</td>\n",
       "      <td>0.0</td>\n",
       "      <td>1.0</td>\n",
       "      <td>4.0</td>\n",
       "    </tr>\n",
       "    <tr>\n",
       "      <th>56</th>\n",
       "      <td>tony sidaway is obviously a fist  fuck  ee  h...</td>\n",
       "      <td>0.0</td>\n",
       "      <td>1.0</td>\n",
       "      <td>1.0</td>\n",
       "      <td>0.0</td>\n",
       "      <td>0.0</td>\n",
       "      <td>1.0</td>\n",
       "      <td>3.0</td>\n",
       "    </tr>\n",
       "    <tr>\n",
       "      <th>...</th>\n",
       "      <td>...</td>\n",
       "      <td>...</td>\n",
       "      <td>...</td>\n",
       "      <td>...</td>\n",
       "      <td>...</td>\n",
       "      <td>...</td>\n",
       "      <td>...</td>\n",
       "      <td>...</td>\n",
       "    </tr>\n",
       "    <tr>\n",
       "      <th>159400</th>\n",
       "      <td>shalom semite  get the fuck out of here  i wil...</td>\n",
       "      <td>1.0</td>\n",
       "      <td>1.0</td>\n",
       "      <td>1.0</td>\n",
       "      <td>1.0</td>\n",
       "      <td>1.0</td>\n",
       "      <td>1.0</td>\n",
       "      <td>6.0</td>\n",
       "    </tr>\n",
       "    <tr>\n",
       "      <th>159411</th>\n",
       "      <td>fat piece of  shit  you obese piece of  shit i...</td>\n",
       "      <td>0.0</td>\n",
       "      <td>1.0</td>\n",
       "      <td>1.0</td>\n",
       "      <td>0.0</td>\n",
       "      <td>0.0</td>\n",
       "      <td>1.0</td>\n",
       "      <td>3.0</td>\n",
       "    </tr>\n",
       "    <tr>\n",
       "      <th>159493</th>\n",
       "      <td>fuck  ing faggot lolwat</td>\n",
       "      <td>0.0</td>\n",
       "      <td>1.0</td>\n",
       "      <td>1.0</td>\n",
       "      <td>0.0</td>\n",
       "      <td>0.0</td>\n",
       "      <td>1.0</td>\n",
       "      <td>3.0</td>\n",
       "    </tr>\n",
       "    <tr>\n",
       "      <th>159541</th>\n",
       "      <td>your absurd edits your absurd edits on great w...</td>\n",
       "      <td>0.0</td>\n",
       "      <td>1.0</td>\n",
       "      <td>1.0</td>\n",
       "      <td>0.0</td>\n",
       "      <td>0.0</td>\n",
       "      <td>1.0</td>\n",
       "      <td>3.0</td>\n",
       "    </tr>\n",
       "    <tr>\n",
       "      <th>159554</th>\n",
       "      <td>and i m going to keep posting the stuff u dele...</td>\n",
       "      <td>0.0</td>\n",
       "      <td>1.0</td>\n",
       "      <td>1.0</td>\n",
       "      <td>0.0</td>\n",
       "      <td>0.0</td>\n",
       "      <td>1.0</td>\n",
       "      <td>3.0</td>\n",
       "    </tr>\n",
       "  </tbody>\n",
       "</table>\n",
       "<p>7168 rows × 8 columns</p>\n",
       "</div>"
      ],
      "text/plain": [
       "                                                     text  identity_hate  \\\n",
       "6            cock  suck before you piss around on my work            0.0   \n",
       "43               fuck your filthy mother in the ass  dry             0.0   \n",
       "51      get fuck  ed up  get fuck  ed up got a drink t...            0.0   \n",
       "55      stupid peace of  shit  stop deleting my stuff ...            0.0   \n",
       "56       tony sidaway is obviously a fist  fuck  ee  h...            0.0   \n",
       "...                                                   ...            ...   \n",
       "159400  shalom semite  get the fuck out of here  i wil...            1.0   \n",
       "159411  fat piece of  shit  you obese piece of  shit i...            0.0   \n",
       "159493                           fuck  ing faggot lolwat             0.0   \n",
       "159541  your absurd edits your absurd edits on great w...            0.0   \n",
       "159554  and i m going to keep posting the stuff u dele...            0.0   \n",
       "\n",
       "        insult  obscene  severe_toxic  threat  toxic  toxicity  \n",
       "6          1.0      1.0           1.0     0.0    1.0       4.0  \n",
       "43         1.0      1.0           0.0     0.0    1.0       3.0  \n",
       "51         0.0      1.0           0.0     0.0    1.0       2.0  \n",
       "55         1.0      1.0           1.0     0.0    1.0       4.0  \n",
       "56         1.0      1.0           0.0     0.0    1.0       3.0  \n",
       "...        ...      ...           ...     ...    ...       ...  \n",
       "159400     1.0      1.0           1.0     1.0    1.0       6.0  \n",
       "159411     1.0      1.0           0.0     0.0    1.0       3.0  \n",
       "159493     1.0      1.0           0.0     0.0    1.0       3.0  \n",
       "159541     1.0      1.0           0.0     0.0    1.0       3.0  \n",
       "159554     1.0      1.0           0.0     0.0    1.0       3.0  \n",
       "\n",
       "[7168 rows x 8 columns]"
      ]
     },
     "execution_count": 18,
     "metadata": {},
     "output_type": "execute_result"
    }
   ],
   "source": [
    "train_df[train_df.obscene >= 1]"
   ]
  }
 ],
 "metadata": {
  "kernelspec": {
   "display_name": "nlp",
   "language": "python",
   "name": "python3"
  },
  "language_info": {
   "codemirror_mode": {
    "name": "ipython",
    "version": 3
   },
   "file_extension": ".py",
   "mimetype": "text/x-python",
   "name": "python",
   "nbconvert_exporter": "python",
   "pygments_lexer": "ipython3",
   "version": "3.10.9"
  },
  "orig_nbformat": 4,
  "vscode": {
   "interpreter": {
    "hash": "cb83a5a2278b84875f083d3105ae25808961757fa695e913b21bf444f2d879dd"
   }
  }
 },
 "nbformat": 4,
 "nbformat_minor": 2
}
