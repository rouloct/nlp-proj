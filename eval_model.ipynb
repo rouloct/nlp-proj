{
 "cells": [
  {
   "attachments": {},
   "cell_type": "markdown",
   "metadata": {},
   "source": [
    "## Code for evaluating model performance"
   ]
  },
  {
   "cell_type": "code",
   "execution_count": 1,
   "metadata": {},
   "outputs": [],
   "source": [
    "import spacy\n",
    "from spacy.tokens import DocBin, Doc\n",
    "from spacy.training import Example"
   ]
  },
  {
   "cell_type": "code",
   "execution_count": 2,
   "metadata": {},
   "outputs": [],
   "source": [
    "nlp = spacy.load(\"/Users/isaacpadberg/Documents/spacy/train1/output/model-best\")\n",
    "doc = nlp(\"Women are hideous.\")\n"
   ]
  },
  {
   "cell_type": "code",
   "execution_count": 3,
   "metadata": {},
   "outputs": [],
   "source": [
    "# Load the dev data from disk\n",
    "doc_bin = DocBin().from_disk(\"/Users/isaacpadberg/Documents/spacy/train1/corpus/dev.spacy\")"
   ]
  },
  {
   "cell_type": "code",
   "execution_count": 4,
   "metadata": {},
   "outputs": [],
   "source": [
    "docs = list(doc_bin.get_docs(nlp.vocab))\n",
    "to_evaluate = []\n",
    "\n",
    "for sample in docs[:10]: \n",
    "    prediction = nlp(sample.text)\n",
    "    to_evaluate.append(Example(prediction, sample))\n",
    "\n",
    "\n"
   ]
  },
  {
   "cell_type": "code",
   "execution_count": 5,
   "metadata": {},
   "outputs": [
    {
     "data": {
      "text/plain": [
       "{'token_acc': 1.0,\n",
       " 'token_p': 1.0,\n",
       " 'token_r': 1.0,\n",
       " 'token_f': 1.0,\n",
       " 'cats_score': 1.0,\n",
       " 'cats_score_desc': 'macro F',\n",
       " 'cats_micro_p': 1.0,\n",
       " 'cats_micro_r': 1.0,\n",
       " 'cats_micro_f': 1.0,\n",
       " 'cats_macro_p': 1.0,\n",
       " 'cats_macro_r': 1.0,\n",
       " 'cats_macro_f': 1.0,\n",
       " 'cats_macro_auc': 1.0,\n",
       " 'cats_f_per_type': {'hate': {'p': 1.0, 'r': 1.0, 'f': 1.0},\n",
       "  'nothate': {'p': 1.0, 'r': 1.0, 'f': 1.0}},\n",
       " 'cats_auc_per_type': {'hate': 1.0, 'nothate': 1.0},\n",
       " 'speed': 31772.44465486503}"
      ]
     },
     "execution_count": 5,
     "metadata": {},
     "output_type": "execute_result"
    }
   ],
   "source": [
    "nlp.evaluate(to_evaluate)"
   ]
  },
  {
   "cell_type": "code",
   "execution_count": 8,
   "metadata": {},
   "outputs": [
    {
     "name": "stdout",
     "output_type": "stream",
     "text": [
      "['textcat']\n"
     ]
    }
   ],
   "source": [
    "# Check the pipeline components\n",
    "print(nlp.pipe_names)"
   ]
  },
  {
   "cell_type": "code",
   "execution_count": null,
   "metadata": {},
   "outputs": [],
   "source": []
  }
 ],
 "metadata": {
  "kernelspec": {
   "display_name": "nlp",
   "language": "python",
   "name": "python3"
  },
  "language_info": {
   "codemirror_mode": {
    "name": "ipython",
    "version": 3
   },
   "file_extension": ".py",
   "mimetype": "text/x-python",
   "name": "python",
   "nbconvert_exporter": "python",
   "pygments_lexer": "ipython3",
   "version": "3.10.9"
  },
  "orig_nbformat": 4,
  "vscode": {
   "interpreter": {
    "hash": "cb83a5a2278b84875f083d3105ae25808961757fa695e913b21bf444f2d879dd"
   }
  }
 },
 "nbformat": 4,
 "nbformat_minor": 2
}
