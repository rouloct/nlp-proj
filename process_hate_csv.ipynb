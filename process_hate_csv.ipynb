{
 "cells": [
  {
   "cell_type": "code",
   "execution_count": 4,
   "metadata": {},
   "outputs": [],
   "source": [
    "import pandas as pd\n",
    "from csv_to_corpus import generate_corpus, make_doc\n",
    "import spacy "
   ]
  },
  {
   "cell_type": "code",
   "execution_count": 5,
   "metadata": {},
   "outputs": [],
   "source": [
    "df = pd.read_csv(\"/Users/isaacpadberg/Documents/spacy/csv/hate_data.csv\",index_col=0)"
   ]
  },
  {
   "attachments": {},
   "cell_type": "markdown",
   "metadata": {},
   "source": [
    "## Prepare the data for processing"
   ]
  },
  {
   "cell_type": "code",
   "execution_count": 6,
   "metadata": {},
   "outputs": [],
   "source": [
    "df.drop(columns=[\"type\",\"db.model_preds\",\"status\",\"round\",\"annotator\", \"model_wrong\"], inplace=True)\n",
    "test_df = df.loc[df.split == \"test\"]\n",
    "dev_df = df.loc[df.split == \"dev\"]\n",
    "train_df = df.loc[df.split == \"train\"]\n",
    "\n",
    "train_df.name = \"train\"\n",
    "test_df.name = \"test\"\n",
    "dev_df.name = \"dev\"\n"
   ]
  },
  {
   "attachments": {},
   "cell_type": "markdown",
   "metadata": {},
   "source": [
    "## Build & Store spaCy Datasets\n",
    "\n",
    "* train.spacy   -> The dataset used to train the model on.\n",
    "* dev.spacy     -> The dataset used to evaluate the model after each training job.\n",
    "* test.spacy    -> The dataset used to evaluate how the model will perfom in a production environment. \n"
   ]
  },
  {
   "cell_type": "code",
   "execution_count": 10,
   "metadata": {},
   "outputs": [],
   "source": [
    "out_folder = \"/Users/isaacpadberg/Documents/spacy/training_data/\"\n",
    "categories = [\"hate\",\"nothate\"]\n",
    "nlp = spacy.blank(\"en\")\n",
    "\n",
    "generate_corpus(dev_df, nlp, categories)\n",
    "generate_corpus(test_df, nlp, categories)\n",
    "generate_corpus(train_df, nlp, categories)"
   ]
  }
 ],
 "metadata": {
  "kernelspec": {
   "display_name": "nlp",
   "language": "python",
   "name": "python3"
  },
  "language_info": {
   "codemirror_mode": {
    "name": "ipython",
    "version": 3
   },
   "file_extension": ".py",
   "mimetype": "text/x-python",
   "name": "python",
   "nbconvert_exporter": "python",
   "pygments_lexer": "ipython3",
   "version": "3.10.9"
  },
  "orig_nbformat": 4,
  "vscode": {
   "interpreter": {
    "hash": "cb83a5a2278b84875f083d3105ae25808961757fa695e913b21bf444f2d879dd"
   }
  }
 },
 "nbformat": 4,
 "nbformat_minor": 2
}
