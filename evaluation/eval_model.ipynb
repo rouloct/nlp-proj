{
 "cells": [
  {
   "attachments": {},
   "cell_type": "markdown",
   "metadata": {},
   "source": [
    "## Code for evaluating model performance"
   ]
  },
  {
   "cell_type": "code",
   "execution_count": 1,
   "metadata": {},
   "outputs": [],
   "source": [
    "import spacy\n",
    "from spacy.tokens import DocBin, Doc\n",
    "from spacy.training import Example"
   ]
  },
  {
   "cell_type": "code",
   "execution_count": 2,
   "metadata": {},
   "outputs": [],
   "source": [
    "nlp = spacy.load(\"/Users/isaacpadberg/Documents/spacy/multiclass_textcat/output/model-best\")"
   ]
  },
  {
   "cell_type": "code",
   "execution_count": 3,
   "metadata": {},
   "outputs": [
    {
     "data": {
      "text/plain": [
       "{'identity_hate': 0.00017538867541588843,\n",
       " 'insult': 0.0008827249403111637,\n",
       " 'obscene': 0.00012278775102458894,\n",
       " 'severe_toxic': 0.00022048964456189424,\n",
       " 'threat': 0.00010962037777062505,\n",
       " 'toxic': 0.008406372740864754,\n",
       " 'toxicity': 0.005149433854967356}"
      ]
     },
     "execution_count": 3,
     "metadata": {},
     "output_type": "execute_result"
    }
   ],
   "source": [
    "doc = nlp(\"You're video fucking sucks.\")\n",
    "doc.cats"
   ]
  },
  {
   "cell_type": "code",
   "execution_count": 4,
   "metadata": {},
   "outputs": [
    {
     "ename": "FileNotFoundError",
     "evalue": "[Errno 2] No such file or directory: '/Users/isaacpadberg/Documents/spacy/train1/corpus/dev.spacy'",
     "output_type": "error",
     "traceback": [
      "\u001b[0;31m---------------------------------------------------------------------------\u001b[0m",
      "\u001b[0;31mFileNotFoundError\u001b[0m                         Traceback (most recent call last)",
      "Cell \u001b[0;32mIn[4], line 2\u001b[0m\n\u001b[1;32m      1\u001b[0m \u001b[39m# Load the dev data from disk\u001b[39;00m\n\u001b[0;32m----> 2\u001b[0m doc_bin \u001b[39m=\u001b[39m DocBin()\u001b[39m.\u001b[39;49mfrom_disk(\u001b[39m\"\u001b[39;49m\u001b[39m/Users/isaacpadberg/Documents/spacy/train1/corpus/dev.spacy\u001b[39;49m\u001b[39m\"\u001b[39;49m)\n",
      "File \u001b[0;32m~/miniconda3/envs/nlp/lib/python3.10/site-packages/spacy/tokens/_serialize.py:273\u001b[0m, in \u001b[0;36mDocBin.from_disk\u001b[0;34m(self, path)\u001b[0m\n\u001b[1;32m    265\u001b[0m \u001b[39m\u001b[39m\u001b[39m\"\"\"Load the DocBin from a file (typically called .spacy).\u001b[39;00m\n\u001b[1;32m    266\u001b[0m \n\u001b[1;32m    267\u001b[0m \u001b[39mpath (str / Path): The file path.\u001b[39;00m\n\u001b[0;32m   (...)\u001b[0m\n\u001b[1;32m    270\u001b[0m \u001b[39mDOCS: https://spacy.io/api/docbin#to_disk\u001b[39;00m\n\u001b[1;32m    271\u001b[0m \u001b[39m\"\"\"\u001b[39;00m\n\u001b[1;32m    272\u001b[0m path \u001b[39m=\u001b[39m ensure_path(path)\n\u001b[0;32m--> 273\u001b[0m \u001b[39mwith\u001b[39;00m path\u001b[39m.\u001b[39;49mopen(\u001b[39m\"\u001b[39;49m\u001b[39mrb\u001b[39;49m\u001b[39m\"\u001b[39;49m) \u001b[39mas\u001b[39;00m file_:\n\u001b[1;32m    274\u001b[0m     \u001b[39mself\u001b[39m\u001b[39m.\u001b[39mfrom_bytes(file_\u001b[39m.\u001b[39mread())\n\u001b[1;32m    275\u001b[0m \u001b[39mreturn\u001b[39;00m \u001b[39mself\u001b[39m\n",
      "File \u001b[0;32m~/miniconda3/envs/nlp/lib/python3.10/pathlib.py:1119\u001b[0m, in \u001b[0;36mPath.open\u001b[0;34m(self, mode, buffering, encoding, errors, newline)\u001b[0m\n\u001b[1;32m   1117\u001b[0m \u001b[39mif\u001b[39;00m \u001b[39m\"\u001b[39m\u001b[39mb\u001b[39m\u001b[39m\"\u001b[39m \u001b[39mnot\u001b[39;00m \u001b[39min\u001b[39;00m mode:\n\u001b[1;32m   1118\u001b[0m     encoding \u001b[39m=\u001b[39m io\u001b[39m.\u001b[39mtext_encoding(encoding)\n\u001b[0;32m-> 1119\u001b[0m \u001b[39mreturn\u001b[39;00m \u001b[39mself\u001b[39;49m\u001b[39m.\u001b[39;49m_accessor\u001b[39m.\u001b[39;49mopen(\u001b[39mself\u001b[39;49m, mode, buffering, encoding, errors,\n\u001b[1;32m   1120\u001b[0m                            newline)\n",
      "\u001b[0;31mFileNotFoundError\u001b[0m: [Errno 2] No such file or directory: '/Users/isaacpadberg/Documents/spacy/train1/corpus/dev.spacy'"
     ]
    }
   ],
   "source": [
    "# Load the dev data from disk\n",
    "doc_bin = DocBin().from_disk(\"/Users/isaacpadberg/Documents/spacy/train1/corpus/dev.spacy\")"
   ]
  },
  {
   "cell_type": "code",
   "execution_count": 4,
   "metadata": {},
   "outputs": [],
   "source": [
    "docs = list(doc_bin.get_docs(nlp.vocab))\n",
    "to_evaluate = []\n",
    "\n",
    "for sample in docs[:10]: \n",
    "    prediction = nlp(sample.text)\n",
    "    to_evaluate.append(Example(prediction, sample))"
   ]
  },
  {
   "cell_type": "code",
   "execution_count": 5,
   "metadata": {},
   "outputs": [
    {
     "data": {
      "text/plain": [
       "{'token_acc': 1.0,\n",
       " 'token_p': 1.0,\n",
       " 'token_r': 1.0,\n",
       " 'token_f': 1.0,\n",
       " 'cats_score': 1.0,\n",
       " 'cats_score_desc': 'macro F',\n",
       " 'cats_micro_p': 1.0,\n",
       " 'cats_micro_r': 1.0,\n",
       " 'cats_micro_f': 1.0,\n",
       " 'cats_macro_p': 1.0,\n",
       " 'cats_macro_r': 1.0,\n",
       " 'cats_macro_f': 1.0,\n",
       " 'cats_macro_auc': 1.0,\n",
       " 'cats_f_per_type': {'hate': {'p': 1.0, 'r': 1.0, 'f': 1.0},\n",
       "  'nothate': {'p': 1.0, 'r': 1.0, 'f': 1.0}},\n",
       " 'cats_auc_per_type': {'hate': 1.0, 'nothate': 1.0},\n",
       " 'speed': 31772.44465486503}"
      ]
     },
     "execution_count": 5,
     "metadata": {},
     "output_type": "execute_result"
    }
   ],
   "source": [
    "nlp.evaluate(to_evaluate)"
   ]
  },
  {
   "cell_type": "code",
   "execution_count": 8,
   "metadata": {},
   "outputs": [
    {
     "name": "stdout",
     "output_type": "stream",
     "text": [
      "['textcat']\n"
     ]
    }
   ],
   "source": [
    "# Check the pipeline components\n",
    "print(nlp.pipe_names)"
   ]
  },
  {
   "cell_type": "code",
   "execution_count": null,
   "metadata": {},
   "outputs": [],
   "source": []
  }
 ],
 "metadata": {
  "kernelspec": {
   "display_name": "nlp",
   "language": "python",
   "name": "python3"
  },
  "language_info": {
   "codemirror_mode": {
    "name": "ipython",
    "version": 3
   },
   "file_extension": ".py",
   "mimetype": "text/x-python",
   "name": "python",
   "nbconvert_exporter": "python",
   "pygments_lexer": "ipython3",
   "version": "3.10.9"
  },
  "orig_nbformat": 4,
  "vscode": {
   "interpreter": {
    "hash": "cb83a5a2278b84875f083d3105ae25808961757fa695e913b21bf444f2d879dd"
   }
  }
 },
 "nbformat": 4,
 "nbformat_minor": 2
}
